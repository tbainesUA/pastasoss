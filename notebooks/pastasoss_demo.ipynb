{
 "cells": [
  {
   "attachments": {},
   "cell_type": "markdown",
   "metadata": {},
   "source": [
    "# **P**redicting **A**ccurate **S**pectral **T**races for **A**strophysical **SOSS** Spectra Package Demo \n",
    "----\n",
    "\n",
    "This notebook demonstrates how to use the `PASTASOSS` package to rapidly generate the trace positions for NIRISS/SOSS observations, in addition we include and example SOSS observation. `PASTASOSS` uses reference models of trace positions for commanded position of the GR700XD, for order 1 and 2. We apply a rotation transform to reference models to derive the trace positions for any given pupil wheel position angle that is included in the FITS header using the keyword `PWCPOS`. The associate wavelength for each trace positions will be added to the tool at a later date to provide a complete picture with sub-pixel performance. Future iterations of this will include update models for spectral traces positions and will eventually include support for order 3. "
   ]
  },
  {
   "attachments": {},
   "cell_type": "markdown",
   "metadata": {},
   "source": [
    "## Imports"
   ]
  },
  {
   "cell_type": "code",
   "execution_count": null,
   "metadata": {},
   "outputs": [],
   "source": [
    "import numpy as np\n",
    "import matplotlib.pyplot as plt\n",
    "from matplotlib.colors import LogNorm\n",
    "\n",
    "from jwst import datamodels\n",
    "\n",
    "from astroquery.mast import Observations\n",
    "import pastasoss"
   ]
  },
  {
   "cell_type": "markdown",
   "metadata": {},
   "source": [
    "## Downloading data from MAST\n",
    "\n",
    "First, were going download some NIRISS/SOSS data products from MAST using `astroquery` for PID 1512 calibration program (PI: Néstor Espinoza) to demonstrate how to use the PASTASOSS to predict the trace positions. \n",
    "\n",
    "\n",
    "1. Query MAST."
   ]
  },
  {
   "cell_type": "code",
   "execution_count": null,
   "metadata": {},
   "outputs": [],
   "source": [
    "# query the data of interest\n",
    "observation = Observations.query_criteria(instrument_name='NIRISS*', \n",
    "                                          proposal_id='1512', \n",
    "                                          target_name='BD+60-1753', \n",
    "                                          filters=\"*GR700XD\")\n",
    "# observation.show_in_notebook(display_length=5)"
   ]
  },
  {
   "cell_type": "markdown",
   "metadata": {},
   "source": [
    "2. Get the data products."
   ]
  },
  {
   "cell_type": "code",
   "execution_count": null,
   "metadata": {},
   "outputs": [],
   "source": [
    "data_products = Observations.get_product_list(observation)\n",
    "# data_products.show_in_notebook(display_length=5)"
   ]
  },
  {
   "cell_type": "markdown",
   "metadata": {},
   "source": [
    "3. Filter the data products to find the observation we want. In this case, we're interest in the `RATEINTS`."
   ]
  },
  {
   "cell_type": "code",
   "execution_count": null,
   "metadata": {},
   "outputs": [],
   "source": [
    "filtered_products = Observations.filter_products(data_products, productType = 'SCIENCE', productSubGroupDescription = 'RATEINTS')\n",
    "# filtered_products.show_in_notebook(display_length=5)"
   ]
  },
  {
   "cell_type": "markdown",
   "metadata": {},
   "source": [
    "4. Filter the files with longest integrations (i.e., the files that have the largest file size) and have a the a similar naming pattern to `jw01512001001_03102_00001_nis` - `jw01512001001_03102_00010_nis`"
   ]
  },
  {
   "cell_type": "code",
   "execution_count": null,
   "metadata": {},
   "outputs": [],
   "source": [
    "filtered_products = filtered_products[filtered_products['size']== 104915520]\n",
    "# filtered_products.show_in_notebook(display_length=5)"
   ]
  },
  {
   "cell_type": "markdown",
   "metadata": {},
   "source": [
    "5. Download the desired data products from our filtered list of observations. This might take some time ~20 sec."
   ]
  },
  {
   "cell_type": "code",
   "execution_count": null,
   "metadata": {},
   "outputs": [],
   "source": [
    "# here you can choose which dataset you want by changing the index.\n",
    "obs_index = 4\n",
    "\n",
    "manifest = Observations.download_products(filtered_products[obs_index], )\n",
    "manifest"
   ]
  },
  {
   "cell_type": "markdown",
   "metadata": {},
   "source": [
    "## Load and check the downloaded data.\n",
    "\n",
    "For this step, We're going to use the 'JWST.datamodels' module for to load in the data. You may also use astropy as well.  "
   ]
  },
  {
   "cell_type": "code",
   "execution_count": null,
   "metadata": {},
   "outputs": [],
   "source": [
    "rateints = datamodels.open(manifest['Local Path'][0])"
   ]
  },
  {
   "cell_type": "code",
   "execution_count": null,
   "metadata": {},
   "outputs": [],
   "source": [
    "rateints.data.shape"
   ]
  },
  {
   "cell_type": "markdown",
   "metadata": {},
   "source": [
    "For this demonstration we're going to use a single frame from the loaded dataset, in this instance, the median frame. You may recieve and warning at this step which we can ignore. "
   ]
  },
  {
   "cell_type": "code",
   "execution_count": null,
   "metadata": {},
   "outputs": [],
   "source": [
    "median_rateints = np.nanmedian(rateints.data, axis=0)"
   ]
  },
  {
   "cell_type": "code",
   "execution_count": null,
   "metadata": {},
   "outputs": [],
   "source": [
    "median_rateints.shape"
   ]
  },
  {
   "cell_type": "markdown",
   "metadata": {},
   "source": [
    "Now we need to extract the pupil wheel position of the GR700XD from the header given by the appropiate keyword. Also, a JWST datamodel object makes it easy to search keywords but using the `search` method. The keyword we are interested in is the `pupil_position`. Alternatively, if the data is loaded using astropy, one can use the `PWCPOS` keyword to extract the value from the header, see below:\n",
    "\n",
    "```python\n",
    "from astropy.io import fits\n",
    "pwcpos = fits.getheader(manifest['Local Path'][0])['PWCPOS']\n",
    "print(pwcpos)\n",
    "```"
   ]
  },
  {
   "cell_type": "code",
   "execution_count": null,
   "metadata": {},
   "outputs": [],
   "source": [
    "rateints.search('pupil')"
   ]
  },
  {
   "cell_type": "code",
   "execution_count": null,
   "metadata": {},
   "outputs": [],
   "source": [
    "pwcpos = rateints.meta.instrument.pupil_position\n",
    "\n",
    "print(f\"The PWCPOS value for {rateints.meta.filename} is {pwcpos:3f} degrees\")"
   ]
  },
  {
   "cell_type": "markdown",
   "metadata": {},
   "source": [
    "Now let's plot the SOSS Observation data."
   ]
  },
  {
   "cell_type": "code",
   "execution_count": null,
   "metadata": {},
   "outputs": [],
   "source": [
    "# Plot the image\n",
    "plt.figure(figsize=(6,3), dpi=200)\n",
    "plt.title(f'{rateints.meta.filename}')\n",
    "plt.imshow(np.log1p(np.nan_to_num(median_rateints)), vmin=1, vmax=6, origin='lower', aspect='auto',cmap='inferno')\n",
    "plt.xlabel('x [pix]')\n",
    "plt.ylabel('y [pix]')\n",
    "plt.colorbar()\n",
    "plt.show()"
   ]
  },
  {
   "cell_type": "markdown",
   "metadata": {},
   "source": [
    "The example observation show the three dispersed spectral orders along with some cross-contamination overlap of dispersed spectral orders from nearby field star. An order 0 of the nearby field star is present in the top right. The 1/f noise is given by the striped-banding across the image columns in addition to the dispersed zodiacal background given by the sudden jump in counts near pixel column 700. \n",
    "\n",
    "It is a known issue that have a large number of `DO_NOT_USE` pixels with the current JWST calibration pipeline and are working to resolve this issues. These pixels were mark as `nans`. We can ignore these for the demo."
   ]
  },
  {
   "attachments": {},
   "cell_type": "markdown",
   "metadata": {},
   "source": [
    "## Generate Trace Positions for a NIRISS/SOSS observation using PASTASOSS\n",
    "\n",
    "We will demonstratte how to use `PASTASOSS` to generate the spectral traces a NIRISS/SOSS observation where we only require the pupil wheel position or `PWCPOS` value which we have already extracted from the file header/datamodel.\n",
    "\n",
    "\n",
    "<!-- First's, load in an example image that has been provided for this notebook and the pupil wheel position associated with the SOSS observation has been given. We will demonstratte how to use `PASTASOSS` to generate the trace positions for this observation given the pupil wheel position.\n",
    "\n",
    "The example SOSS observation used in this demo is from the calibration program 1512 dataset. \n",
    "\n",
    "Let's begin by loading in the image for this demo: -->"
   ]
  },
  {
   "attachments": {},
   "cell_type": "markdown",
   "metadata": {},
   "source": [
    "To do this we will use the `get_soss_traces` function from `PASTASOSS`."
   ]
  },
  {
   "cell_type": "code",
   "execution_count": null,
   "metadata": {},
   "outputs": [],
   "source": [
    "# get the order 1 traces for the desired PWCPOS \n",
    "traces_order1 = pastasoss.get_soss_traces(pwcpos=pwcpos, order='1', interp=True) \n",
    "\n",
    "# now for order 2\n",
    "traces_order2 = pastasoss.get_soss_traces(pwcpos=pwcpos, order='2', interp=True)"
   ]
  },
  {
   "cell_type": "markdown",
   "metadata": {},
   "source": [
    "The `get_soss_traces` method will use the included trace and wavelength calibration model to predict the trace (x, y) pixel positions and their associated wavelength values in units of microns. This method will return a TraceModel that is a dataclass object to store the trace properties (i.e., order, x, y, wavelength). "
   ]
  },
  {
   "cell_type": "code",
   "execution_count": null,
   "metadata": {},
   "outputs": [],
   "source": [
    "type(traces_order1)"
   ]
  },
  {
   "cell_type": "code",
   "execution_count": null,
   "metadata": {},
   "outputs": [],
   "source": [
    "print(traces_order1)"
   ]
  },
  {
   "cell_type": "code",
   "execution_count": null,
   "metadata": {},
   "outputs": [],
   "source": [
    "print(traces_order2)"
   ]
  },
  {
   "attachments": {},
   "cell_type": "markdown",
   "metadata": {},
   "source": [
    "You can also called the function in a single line by the follow:"
   ]
  },
  {
   "cell_type": "code",
   "execution_count": null,
   "metadata": {},
   "outputs": [],
   "source": [
    "# uncomment this line and run the cell\n",
    "# traces_order1, traces_order2 = pastasoss.get_soss_traces(pwcpos=pwcpos, order='12', interp=True)"
   ]
  },
  {
   "attachments": {},
   "cell_type": "markdown",
   "metadata": {},
   "source": [
    "Next, lets plot our traces we just generated for this observation ontop of our image. Let separate our traces into their x-,y-compenents."
   ]
  },
  {
   "cell_type": "code",
   "execution_count": null,
   "metadata": {},
   "outputs": [],
   "source": [
    "x1, y1, wave1 = traces_order1.x, traces_order1.y, traces_order1.wavelength\n",
    "x2, y2, wave2 = traces_order2.x, traces_order2.y, traces_order2.wavelength"
   ]
  },
  {
   "attachments": {},
   "cell_type": "markdown",
   "metadata": {},
   "source": [
    "Now lets plots traces for orders 1 and 2 on top of our example SOSS observations."
   ]
  },
  {
   "cell_type": "code",
   "execution_count": null,
   "metadata": {},
   "outputs": [],
   "source": [
    "plt.figure(figsize=(6,3), dpi=200)\n",
    "plt.title(f'NIRISS/SOSS GR700XD\\ntrace positions at PWCPOS={pwcpos:.3f}')\n",
    "plt.imshow(np.nan_to_num(median_rateints), vmin=0, vmax=30, origin='lower', aspect='auto', cmap='inferno')\n",
    "plt.plot(x1,y1, lw=1.5, label=f'order 1', color='cornflowerblue')\n",
    "plt.plot(x2,y2, lw=1.5, label=f'order 2', color='orangered')\n",
    "plt.xlabel('x [pix]')\n",
    "plt.ylabel('y [pix]')\n",
    "plt.colorbar()\n",
    "plt.legend()\n",
    "plt.show()"
   ]
  },
  {
   "cell_type": "markdown",
   "metadata": {},
   "source": [
    "As you can see, we are able to predict the traces positions for orders 1 and 2 very well with sub-pixel performance. Order 1 has full coverage across the detector while order 2 extends from pixel column 1000 to 1750. This was due to the limit data at the time of producing the trace model and will be updated in the future to span 650 to 1750 and eventually span all of order 2. Order 3 will be supported in the future. "
   ]
  },
  {
   "attachments": {},
   "cell_type": "markdown",
   "metadata": {},
   "source": [
    "# Spectral Extraction\n",
    "\n",
    "Now that we have our traces positions for spectral order 1 and 2, we can perform a simple aperutre extraction to extract the spectrum.  "
   ]
  },
  {
   "cell_type": "code",
   "execution_count": null,
   "metadata": {},
   "outputs": [],
   "source": [
    "data = np.nan_to_num(median_rateints.copy())\n",
    "\n",
    "# ignore values less zero\n",
    "data[data<0] = 0\n",
    "\n",
    "# Define how many pixels we want to set our aperture above and below the trace center\n",
    "npix = 15\n",
    "\n",
    "# perform a simple aperture extraction via cutout of a desired window size. \n",
    "flux_order1 = [data[int(y)-npix:int(y)+npix, int(x)].sum() for x, y in zip(x1, y1)]\n",
    "flux_order2 = [data[int(y)-npix:int(y)+npix, int(x)].sum() for x, y in zip(x2, y2)]"
   ]
  },
  {
   "attachments": {},
   "cell_type": "markdown",
   "metadata": {},
   "source": [
    "Let's plot the extracted spectrum for orders 1 and 2."
   ]
  },
  {
   "cell_type": "code",
   "execution_count": null,
   "metadata": {},
   "outputs": [],
   "source": [
    "fig, (ax1, ax2) = plt.subplots(1, 2, figsize=(12,6))\n",
    "fig.suptitle('Extracted SOSS Spectra')\n",
    "ax1.set_title('Order 1')\n",
    "ax1.plot(wave1, flux_order1, lw=1.5, label=f'order 1', color='cornflowerblue')\n",
    "ax1.set_xlabel('wavelength [um]')\n",
    "ax1.set_ylabel('DN/s')\n",
    "\n",
    "\n",
    "ax2.set_title('Order 2')\n",
    "ax2.plot(wave2, flux_order2, lw=1.5, label=f'order 2', color='orangered')\n",
    "ax2.set_xlabel('wavelength [um]')\n",
    "ax2.set_ylabel('DN/s')\n",
    "\n",
    "plt.tight_layout()\n",
    "plt.show()"
   ]
  },
  {
   "cell_type": "code",
   "execution_count": null,
   "metadata": {},
   "outputs": [],
   "source": [
    "plt.figure(figsize=(10,4), dpi=187)\n",
    "plt.plot(wave1, flux_order1, lw=1.5, label=f'order 1', color='cornflowerblue')\n",
    "plt.xlabel('Wavelength [um]')\n",
    "plt.ylabel('DN/s')\n",
    "plt.text(1.25, 22000, 'Order 1', color='cornflowerblue')\n",
    "plt.xticks(color=\"cornflowerblue\")\n",
    "plt.twiny()\n",
    "plt.plot(wave2, flux_order2, lw=1.5, label=f'order 2', color='orangered')\n",
    "plt.text(0.7, 12000, 'Order 2', color='orangered')\n",
    "plt.xticks(color=\"orangered\")\n",
    "plt.ylabel('DN/s (order 2)')\n",
    "plt.xlabel('Wavelength [um]')\n",
    "# plt.legend()\n",
    "\n",
    "plt.tight_layout()\n",
    "plt.show()"
   ]
  },
  {
   "attachments": {},
   "cell_type": "markdown",
   "metadata": {},
   "source": [
    "# Conclusion\n",
    "\n",
    "This concludes the demo (v1.1) of how to use the PASATSOSS Package.\n",
    "\n",
    "Our goal with PASTASOSS to provide the community with a tool to predict the spectral traces (i.e, their positions on the detector and associated wavelengths for the three GR700XD diffraction orders) given a PWCPOS value. \n",
    "\n",
    "### Future priority updates to include into the PASTASOSS package:\n",
    "1. Support for order 3 traces and wavelength calibration\n",
    "2. Update trace and wavelength calibration models when more data becomes available\n",
    "3. Possible integration into the JWST calibration pipeline (TBD). \n",
    "\n",
    "\n",
    "### Additional features that may be included in the future:\n",
    "1. integrated method(s) to trace spectral such as:\n",
    "    - the applesoss edge-triger algorithm \n",
    "    - transitspectroscopy cross-correlation algorithm\n",
    "2. spatial profiles\n",
    "3. Background model prediction for Background Subtraction (integrated or standalone)\n",
    "4. 1/f noise removal\n",
    "\n",
    "\n",
    "-----\n",
    "\n",
    "If you use this tool in your work, please cite the tool and author(s). For questions about the tool or interested in contributing to the package in any way, please contact the authors. \n",
    "\n",
    "Links to Technical Reports:\n",
    "1. [Characterization of the visit-to-visit Stability of the GR700XD Spectral Traces for NIRISS/SOSS Observations](https://arxiv.org/abs/2311.07769)\n",
    "2. [Characterization of the visit-to-visit Stability of the GR700XD Wavelength Calibration for NIRISS/SOSS Observations](https://arxiv.org/abs/2311.07771)"
   ]
  },
  {
   "cell_type": "markdown",
   "metadata": {},
   "source": [
    "##  About this notebook\n",
    ">**_version_**: 1.1.0\n",
    ">\n",
    ">**_Author_**: Tyler Baines, STScI Science Support Analyst\n",
    ">\n",
    ">**_Email_**: <tbaines@stsci.edu>\n",
    ">\n",
    ">**_Date Updated_**: 4/02/2024\n",
    ">\n",
    ">**_Observatory_**: JWST\n",
    ">\n",
    ">**_Instrument/Mode_**: NIRISS/SOSS\n",
    "\n",
    "____"
   ]
  }
 ],
 "metadata": {
  "kernelspec": {
   "display_name": "pasta-soss-3.9",
   "language": "python",
   "name": "python3"
  },
  "language_info": {
   "codemirror_mode": {
    "name": "ipython",
    "version": 3
   },
   "file_extension": ".py",
   "mimetype": "text/x-python",
   "name": "python",
   "nbconvert_exporter": "python",
   "pygments_lexer": "ipython3",
   "version": "3.9.16"
  }
 },
 "nbformat": 4,
 "nbformat_minor": 2
}
